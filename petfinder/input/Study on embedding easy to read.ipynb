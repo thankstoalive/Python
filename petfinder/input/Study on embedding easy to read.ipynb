{
 "cells": [
  {
   "cell_type": "code",
   "execution_count": 5,
   "metadata": {
    "_uuid": "050afe1e3e3665a6a7374ab856e551ab3cd67fa5"
   },
   "outputs": [],
   "source": [
    "import os\n",
    "import numpy as np\n",
    "import pandas as pd\n",
    "\n",
    "import warnings\n",
    "warnings.filterwarnings('ignore')\n",
    "\n",
    "import keras\n",
    "from keras.layers import Dense, GlobalAveragePooling1D, Embedding\n",
    "from keras.callbacks import EarlyStopping\n",
    "from keras.models import Sequential\n",
    "from keras.preprocessing.sequence import pad_sequences\n",
    "from keras.preprocessing.text import Tokenizer\n",
    "from keras.utils import to_categorical"
   ]
  },
  {
   "cell_type": "code",
   "execution_count": 6,
   "metadata": {
    "_uuid": "10075545c8d8203a6a30598e01b7e4836a7cf281"
   },
   "outputs": [],
   "source": [
    "# 데이터 불러오기\n",
    "train = pd.read_csv('./train/train.csv')\n",
    "test = pd.read_csv('./test/test.csv')\n",
    "\n",
    "# 결측치 처리\n",
    "train['Description'] = train.Description.fillna(\"none\").values\n",
    "test['Description'] = test.Description.fillna(\"none\").values\n",
    "\n",
    "# y 원핫인코딩\n",
    "target = train['AdoptionSpeed']\n",
    "y = to_categorical(target)"
   ]
  },
  {
   "cell_type": "code",
   "execution_count": 24,
   "metadata": {
    "_uuid": "2ade4daecf48aadea47ad8c86d5c8e11e9ee780f"
   },
   "outputs": [
    {
     "name": "stdout",
     "output_type": "stream",
     "text": [
      "Shape of train data tensor: (14993, 1233)\n",
      "max sequence length : 1,233\n",
      "# of words :21,808\n"
     ]
    }
   ],
   "source": [
    "# test -> token\n",
    "tokenizer = Tokenizer()\n",
    "tokenizer.fit_on_texts(train['Description'])\n",
    "\n",
    "# 토큰화 된 text -> sequence\n",
    "sequences = tokenizer.texts_to_sequences(train['Description'])\n",
    "test_sequences = tokenizer.texts_to_sequences(test['Description'])\n",
    "\n",
    "# padding (최대길이로)\n",
    "train_data = pad_sequences(sequences)\n",
    "MAX_SEQUENCE_LENGTH = train_data.shape[1]\n",
    "test_data = pad_sequences(test_sequences, maxlen=MAX_SEQUENCE_LENGTH)\n",
    "\n",
    "print('Shape of train data tensor:', train_data.shape)\n",
    "nb_words = (np.max(train_data) + 1)\n",
    "print(\"max sequence length : {:,}\" .format(MAX_SEQUENCE_LENGTH))\n",
    "print(\"# of words :{:,}\" .format(nb_words))"
   ]
  },
  {
   "cell_type": "code",
   "execution_count": 13,
   "metadata": {
    "_uuid": "16fdd99512e99f2bd72d09a25275e28df69fa6ab"
   },
   "outputs": [
    {
     "name": "stdout",
     "output_type": "stream",
     "text": [
      "_________________________________________________________________\n",
      "Layer (type)                 Output Shape              Param #   \n",
      "=================================================================\n",
      "embedding_2 (Embedding)      (None, 1233, 50)          1090400   \n",
      "_________________________________________________________________\n",
      "global_average_pooling1d_2 ( (None, 50)                0         \n",
      "_________________________________________________________________\n",
      "dense_2 (Dense)              (None, 5)                 255       \n",
      "=================================================================\n",
      "Total params: 1,090,655\n",
      "Trainable params: 1,090,655\n",
      "Non-trainable params: 0\n",
      "_________________________________________________________________\n"
     ]
    }
   ],
   "source": [
    "model = Sequential()\n",
    "model.add(Embedding(nb_words,50,input_length=MAX_SEQUENCE_LENGTH))\n",
    "model.add(GlobalAveragePooling1D())\n",
    "model.add(Dense(5, activation='softmax'))\n",
    "model.summary()\n",
    "model.compile(loss='categorical_crossentropy', optimizer='adam', metrics = ['accuracy'])"
   ]
  },
  {
   "cell_type": "code",
   "execution_count": 14,
   "metadata": {
    "_uuid": "ea8a9b87accc3e13131df5f28bc88068690a535e"
   },
   "outputs": [
    {
     "name": "stdout",
     "output_type": "stream",
     "text": [
      "Train on 11994 samples, validate on 2999 samples\n",
      "Epoch 1/100\n",
      "11994/11994 [==============================] - 7s 576us/step - loss: 1.5382 - acc: 0.2695 - val_loss: 1.4890 - val_acc: 0.2978\n",
      "Epoch 2/100\n",
      "11994/11994 [==============================] - 7s 546us/step - loss: 1.4742 - acc: 0.2839 - val_loss: 1.4650 - val_acc: 0.2691\n",
      "Epoch 3/100\n",
      "11994/11994 [==============================] - 7s 552us/step - loss: 1.4661 - acc: 0.2804 - val_loss: 1.4617 - val_acc: 0.3144\n",
      "Epoch 4/100\n",
      "11994/11994 [==============================] - 7s 544us/step - loss: 1.4653 - acc: 0.2815 - val_loss: 1.4620 - val_acc: 0.2721\n"
     ]
    },
    {
     "data": {
      "text/plain": [
       "<keras.callbacks.History at 0x2066a640240>"
      ]
     },
     "execution_count": 14,
     "metadata": {},
     "output_type": "execute_result"
    }
   ],
   "source": [
    "early_stopping = EarlyStopping(patience = 1)\n",
    "\n",
    "model.fit(train_data, y, validation_split=0.2, nb_epoch=100, batch_size=128, callbacks=[early_stopping])"
   ]
  },
  {
   "cell_type": "code",
   "execution_count": 15,
   "metadata": {},
   "outputs": [
    {
     "data": {
      "text/plain": [
       "array([[0.02777462, 0.19761194, 0.2782477 , 0.21996589, 0.27639985],\n",
       "       [0.02751336, 0.19755906, 0.27823168, 0.21956755, 0.2771284 ],\n",
       "       [0.02798403, 0.19761641, 0.27765197, 0.22068396, 0.27606362],\n",
       "       ...,\n",
       "       [0.02888631, 0.19859985, 0.27712375, 0.22103138, 0.2743587 ],\n",
       "       [0.02799195, 0.19772357, 0.27735287, 0.22030763, 0.27662393],\n",
       "       [0.02895666, 0.19801924, 0.2773331 , 0.22158435, 0.27410668]],\n",
       "      dtype=float32)"
      ]
     },
     "execution_count": 15,
     "metadata": {},
     "output_type": "execute_result"
    }
   ],
   "source": [
    "pred = model.predict(test_data)\n",
    "pred"
   ]
  },
  {
   "cell_type": "code",
   "execution_count": 16,
   "metadata": {},
   "outputs": [
    {
     "data": {
      "text/plain": [
       "array([2, 2, 2, ..., 2, 2, 2], dtype=int64)"
      ]
     },
     "execution_count": 16,
     "metadata": {},
     "output_type": "execute_result"
    }
   ],
   "source": [
    "pred = pred.argmax(axis=-1)\n",
    "pred"
   ]
  },
  {
   "cell_type": "code",
   "execution_count": 22,
   "metadata": {},
   "outputs": [
    {
     "data": {
      "text/plain": [
       "2    3941\n",
       "4       7\n",
       "dtype: int64"
      ]
     },
     "execution_count": 22,
     "metadata": {},
     "output_type": "execute_result"
    }
   ],
   "source": [
    "pd.Series(pred).value_counts()"
   ]
  }
 ],
 "metadata": {
  "kernelspec": {
   "display_name": "Python 3",
   "language": "python",
   "name": "python3"
  },
  "language_info": {
   "codemirror_mode": {
    "name": "ipython",
    "version": 3
   },
   "file_extension": ".py",
   "mimetype": "text/x-python",
   "name": "python",
   "nbconvert_exporter": "python",
   "pygments_lexer": "ipython3",
   "version": "3.6.6"
  }
 },
 "nbformat": 4,
 "nbformat_minor": 1
}
