{
 "cells": [
  {
   "cell_type": "code",
   "execution_count": 1,
   "metadata": {},
   "outputs": [],
   "source": [
    "import os\n",
    "import numpy as np\n",
    "import pandas as pd\n",
    "\n",
    "import warnings\n",
    "warnings.filterwarnings('ignore')"
   ]
  },
  {
   "cell_type": "code",
   "execution_count": 2,
   "metadata": {},
   "outputs": [],
   "source": [
    "train = pd.read_csv('./train/train.csv')\n",
    "test = pd.read_csv('./test/test.csv')\n",
    "\n",
    "train.drop(['Name', 'Description', 'PetID', 'RescuerID'], axis=1, inplace=True)\n",
    "test.drop(['Name', 'Description', 'PetID', 'RescuerID'], axis=1, inplace=True)\n",
    "\n",
    "target = train['AdoptionSpeed']\n",
    "train.drop(['AdoptionSpeed'], axis=1, inplace=True)"
   ]
  },
  {
   "cell_type": "code",
   "execution_count": 3,
   "metadata": {},
   "outputs": [],
   "source": [
    "#modeling\n",
    "from subprocess import check_output\n",
    "from sklearn.svm import SVC\n",
    "from sklearn import svm, neighbors\n",
    "from sklearn.linear_model import LogisticRegression\n",
    "from sklearn.ensemble import (RandomForestClassifier, VotingClassifier, AdaBoostClassifier,\n",
    "GradientBoostingClassifier,ExtraTreesClassifier)\n",
    "from sklearn.tree import DecisionTreeClassifier\n",
    "from sklearn.discriminant_analysis import LinearDiscriminantAnalysis\n",
    "from sklearn.model_selection import KFold\n",
    "from sklearn.model_selection import train_test_split\n",
    "from sklearn import preprocessing\n",
    "\n",
    "import xgboost as xbg"
   ]
  },
  {
   "cell_type": "code",
   "execution_count": 4,
   "metadata": {},
   "outputs": [],
   "source": [
    "ntrain  = train.shape[0]\n",
    "ntest  = test.shape[0]\n",
    "\n",
    "SEED = 1\n",
    "NFOLDS = 5\n",
    "kf = KFold(n_splits=NFOLDS)"
   ]
  },
  {
   "cell_type": "code",
   "execution_count": 5,
   "metadata": {},
   "outputs": [],
   "source": [
    "class SklearnHelper(object):\n",
    "    def __init__(self, clf, seed = 0, params=None): # self, 모델, 시드, 파라미터\n",
    "        params[\"random_state\"] = seed\n",
    "        self.clf = clf(**params)\n",
    "        \n",
    "    def train(self, x_train, y_train):\n",
    "        self.clf.fit(x_train, y_train)\n",
    "    \n",
    "    def predict(self, x):\n",
    "        return self.clf.predict(x)\n",
    "    \n",
    "    def fit(self, x, y):\n",
    "        return self.clf.fit(x, y)\n",
    "        \n",
    "    def feature_importances(self, x, y):\n",
    "        importance = []\n",
    "        for i in self.clf.fit(x, y).feature_importances_:\n",
    "            importance.append(i)\n",
    "        return importance"
   ]
  },
  {
   "cell_type": "code",
   "execution_count": 6,
   "metadata": {},
   "outputs": [],
   "source": [
    "def get_oof(clf, X, y, X_test):\n",
    "    oof_train = np.zeros((ntrain,))\n",
    "    oof_test = np.zeros((ntest,))\n",
    "    oof_test_skf = np.empty((NFOLDS, ntest))\n",
    "\n",
    "    for i, (train_index, test_index) in enumerate(kf.split(X)):\n",
    "        print('\\nFold {}'.format(i))\n",
    "        x_tr = X.iloc[train_index]\n",
    "        y_tr = y[train_index]\n",
    "        x_te = X.iloc[test_index]\n",
    "\n",
    "        clf.train(x_tr, y_tr)\n",
    "\n",
    "        oof_train[test_index] = clf.predict(x_te)\n",
    "        oof_test_skf[i, :] = clf.predict(X_test)\n",
    "\n",
    "    oof_test[:] = oof_test_skf.mean(axis=0)\n",
    "    return oof_train.reshape(-1, 1), oof_test.reshape(-1, 1)"
   ]
  },
  {
   "cell_type": "code",
   "execution_count": 7,
   "metadata": {},
   "outputs": [],
   "source": [
    "#Parameter 설정\n",
    "#Random Forest\n",
    "rf_params = {\n",
    "    \"n_jobs\": -1,\n",
    "    \"n_estimators\": 500,\n",
    "    \"warm_start\": True,\n",
    "    #\"max_features\":0.2,\n",
    "    \"max_depth\":6,\n",
    "    \"min_samples_leaf\": 2, \n",
    "    \"max_features\": \"sqrt\",\n",
    "    \"verbose\":0\n",
    "}\n",
    "\n",
    "#Extra Trees\n",
    "et_params = {\n",
    "    \"n_jobs\": -1,\n",
    "    \"n_estimators\": 500,\n",
    "    #\"max_features\":0.5,\n",
    "    \"max_depth\":8,\n",
    "    \"min_samples_leaf\": 2, \n",
    "    \"verbose\":0\n",
    "}\n",
    "\n",
    "#AdaBoost\n",
    "ada_params = {\n",
    "    \"n_estimators\" : 500,\n",
    "    \"learning_rate\" : 0.75\n",
    "}\n",
    "\n",
    "#Gradient Boosting\n",
    "gb_params = {\n",
    "    \"n_estimators\":500,\n",
    "    #\"max_features\" : 0.2\n",
    "    \"max_depth\" : 5,\n",
    "    \"min_samples_leaf\" : 2,\n",
    "    \"verbose\" : 0\n",
    "}"
   ]
  },
  {
   "cell_type": "code",
   "execution_count": 8,
   "metadata": {},
   "outputs": [],
   "source": [
    "rf = SklearnHelper(clf = RandomForestClassifier, seed = SEED, params = rf_params)\n",
    "et = SklearnHelper(clf = ExtraTreesClassifier, seed = SEED, params = et_params)\n",
    "ada = SklearnHelper(clf = AdaBoostClassifier, seed = SEED, params = ada_params)\n",
    "gb = SklearnHelper(clf = GradientBoostingClassifier, seed = SEED, params = gb_params)"
   ]
  },
  {
   "cell_type": "code",
   "execution_count": 9,
   "metadata": {},
   "outputs": [
    {
     "name": "stdout",
     "output_type": "stream",
     "text": [
      "Generating OOFs\n",
      "\n",
      "Fold 0\n",
      "\n",
      "Fold 1\n",
      "\n",
      "Fold 2\n",
      "\n",
      "Fold 3\n",
      "\n",
      "Fold 4\n",
      "\n",
      "Fold 0\n",
      "\n",
      "Fold 1\n",
      "\n",
      "Fold 2\n",
      "\n",
      "Fold 3\n",
      "\n",
      "Fold 4\n",
      "\n",
      "Fold 0\n",
      "\n",
      "Fold 1\n",
      "\n",
      "Fold 2\n",
      "\n",
      "Fold 3\n",
      "\n",
      "Fold 4\n",
      "\n",
      "Fold 0\n",
      "\n",
      "Fold 1\n",
      "\n",
      "Fold 2\n",
      "\n",
      "Fold 3\n",
      "\n",
      "Fold 4\n",
      "Training is complete\n"
     ]
    }
   ],
   "source": [
    "#First Level Prediction - OOF train and test\n",
    "print (\"Generating OOFs\")\n",
    "\n",
    "et_oof_train, et_oof_test = get_oof(et, train, target, test) # Extra Trees\n",
    "rf_oof_train, rf_oof_test = get_oof(rf,train, target, test) # Random Forest\n",
    "ada_oof_train, ada_oof_test = get_oof(ada, train, target, test) # AdaBoost \n",
    "gb_oof_train, gb_oof_test = get_oof(gb,train, target, test) # Gradient Boost\n",
    "# svc_oof_train, svc_oof_test = get_oof(svc,train, target, test) # Support Vector Classifier\n",
    "\n",
    "print(\"Training is complete\")"
   ]
  },
  {
   "cell_type": "code",
   "execution_count": 10,
   "metadata": {},
   "outputs": [],
   "source": [
    "rf_feature = rf.feature_importances(train,target)\n",
    "et_feature = et.feature_importances(train, target)\n",
    "ada_feature = ada.feature_importances(train, target)\n",
    "gb_feature = gb.feature_importances(train,target)"
   ]
  },
  {
   "cell_type": "code",
   "execution_count": 11,
   "metadata": {},
   "outputs": [],
   "source": [
    "cols = train.columns.values\n",
    "feature_df = pd.DataFrame({\n",
    "    \"features\":cols,\n",
    "    'Random Forest feature importances': rf_feature,\n",
    "     'Extra Trees  feature importances': et_feature,\n",
    "      'AdaBoost feature importances': ada_feature,\n",
    "    'Gradient Boost feature importances': gb_feature\n",
    "})"
   ]
  },
  {
   "cell_type": "code",
   "execution_count": 13,
   "metadata": {},
   "outputs": [
    {
     "data": {
      "text/html": [
       "<script type=\"text/javascript\">window.PlotlyConfig = {MathJaxConfig: 'local'};</script><script type=\"text/javascript\">if (window.MathJax) {MathJax.Hub.Config({SVG: {font: \"STIX-Web\"}});}</script><script>requirejs.config({paths: { 'plotly': ['https://cdn.plot.ly/plotly-latest.min']},});if(!window._Plotly) {require(['plotly'],function(plotly) {window._Plotly=plotly;});}</script>"
      ],
      "text/vnd.plotly.v1+html": [
       "<script type=\"text/javascript\">window.PlotlyConfig = {MathJaxConfig: 'local'};</script><script type=\"text/javascript\">if (window.MathJax) {MathJax.Hub.Config({SVG: {font: \"STIX-Web\"}});}</script><script>requirejs.config({paths: { 'plotly': ['https://cdn.plot.ly/plotly-latest.min']},});if(!window._Plotly) {require(['plotly'],function(plotly) {window._Plotly=plotly;});}</script>"
      ]
     },
     "metadata": {},
     "output_type": "display_data"
    }
   ],
   "source": [
    "import plotly.offline as py\n",
    "py.init_notebook_mode(connected=True)\n",
    "import plotly.graph_objs as go\n",
    "import plotly.tools as tls"
   ]
  },
  {
   "cell_type": "code",
   "execution_count": 14,
   "metadata": {
    "scrolled": false
   },
   "outputs": [
    {
     "data": {
      "application/vnd.plotly.v1+json": {
       "config": {
        "linkText": "Export to plot.ly",
        "plotlyServerURL": "https://plot.ly",
        "showLink": false
       },
       "data": [
        {
         "marker": {
          "color": [
           0.027243890343939262,
           0.26422202976670234,
           0.15323367806819194,
           0.03224945061119358,
           0.021501038610268707,
           0.022075707310289894,
           0.014614822363356064,
           0.008319793995265449,
           0.028723519403881664,
           0.029001628115442334,
           0.03474581183209578,
           0.023388484171026038,
           0.11556066969231987,
           0.00418070464702953,
           0.0427277653054522,
           0.021243913890670655,
           0.030453797657079184,
           0.00477983539073106,
           0.12173345882506426
          ],
          "colorscale": "Portland",
          "showscale": true,
          "size": 25,
          "sizemode": "diameter",
          "sizeref": 1
         },
         "mode": "markers",
         "text": [
          "Type",
          "Age",
          "Breed1",
          "Breed2",
          "Gender",
          "Color1",
          "Color2",
          "Color3",
          "MaturitySize",
          "FurLength",
          "Vaccinated",
          "Dewormed",
          "Sterilized",
          "Health",
          "Quantity",
          "Fee",
          "State",
          "VideoAmt",
          "PhotoAmt"
         ],
         "type": "scatter",
         "uid": "354dc39b-cc6b-4cda-86b9-7436dd37020f",
         "x": [
          "Type",
          "Age",
          "Breed1",
          "Breed2",
          "Gender",
          "Color1",
          "Color2",
          "Color3",
          "MaturitySize",
          "FurLength",
          "Vaccinated",
          "Dewormed",
          "Sterilized",
          "Health",
          "Quantity",
          "Fee",
          "State",
          "VideoAmt",
          "PhotoAmt"
         ],
         "y": [
          0.027243890343939262,
          0.26422202976670234,
          0.15323367806819194,
          0.03224945061119358,
          0.021501038610268707,
          0.022075707310289894,
          0.014614822363356064,
          0.008319793995265449,
          0.028723519403881664,
          0.029001628115442334,
          0.03474581183209578,
          0.023388484171026038,
          0.11556066969231987,
          0.00418070464702953,
          0.0427277653054522,
          0.021243913890670655,
          0.030453797657079184,
          0.00477983539073106,
          0.12173345882506426
         ]
        }
       ],
       "layout": {
        "autosize": true,
        "hovermode": "closest",
        "showlegend": false,
        "title": {
         "text": "Random Forest Feature Importance"
        },
        "yaxis": {
         "gridwidth": 2,
         "ticklen": 5,
         "title": {
          "text": "Feature Importance"
         }
        }
       }
      },
      "text/html": [
       "<div id=\"c6aa77e6-44da-466b-845c-e348d92e6bec\" style=\"height: 525px; width: 100%;\" class=\"plotly-graph-div\"></div><script type=\"text/javascript\">require([\"plotly\"], function(Plotly) { window.PLOTLYENV=window.PLOTLYENV || {};window.PLOTLYENV.BASE_URL=\"https://plot.ly\";Plotly.newPlot(\"c6aa77e6-44da-466b-845c-e348d92e6bec\", [{\"marker\": {\"color\": [0.027243890343939262, 0.26422202976670234, 0.15323367806819194, 0.03224945061119358, 0.021501038610268707, 0.022075707310289894, 0.014614822363356064, 0.008319793995265449, 0.028723519403881664, 0.029001628115442334, 0.03474581183209578, 0.023388484171026038, 0.11556066969231987, 0.00418070464702953, 0.0427277653054522, 0.021243913890670655, 0.030453797657079184, 0.00477983539073106, 0.12173345882506426], \"colorscale\": \"Portland\", \"showscale\": true, \"size\": 25, \"sizemode\": \"diameter\", \"sizeref\": 1}, \"mode\": \"markers\", \"text\": [\"Type\", \"Age\", \"Breed1\", \"Breed2\", \"Gender\", \"Color1\", \"Color2\", \"Color3\", \"MaturitySize\", \"FurLength\", \"Vaccinated\", \"Dewormed\", \"Sterilized\", \"Health\", \"Quantity\", \"Fee\", \"State\", \"VideoAmt\", \"PhotoAmt\"], \"x\": [\"Type\", \"Age\", \"Breed1\", \"Breed2\", \"Gender\", \"Color1\", \"Color2\", \"Color3\", \"MaturitySize\", \"FurLength\", \"Vaccinated\", \"Dewormed\", \"Sterilized\", \"Health\", \"Quantity\", \"Fee\", \"State\", \"VideoAmt\", \"PhotoAmt\"], \"y\": [0.027243890343939262, 0.26422202976670234, 0.15323367806819194, 0.03224945061119358, 0.021501038610268707, 0.022075707310289894, 0.014614822363356064, 0.008319793995265449, 0.028723519403881664, 0.029001628115442334, 0.03474581183209578, 0.023388484171026038, 0.11556066969231987, 0.00418070464702953, 0.0427277653054522, 0.021243913890670655, 0.030453797657079184, 0.00477983539073106, 0.12173345882506426], \"type\": \"scatter\", \"uid\": \"354dc39b-cc6b-4cda-86b9-7436dd37020f\"}], {\"autosize\": true, \"hovermode\": \"closest\", \"showlegend\": false, \"title\": {\"text\": \"Random Forest Feature Importance\"}, \"yaxis\": {\"gridwidth\": 2, \"ticklen\": 5, \"title\": {\"text\": \"Feature Importance\"}}}, {\"showLink\": false, \"linkText\": \"Export to plot.ly\", \"plotlyServerURL\": \"https://plot.ly\"})});</script><script type=\"text/javascript\">window.addEventListener(\"resize\", function(){window._Plotly.Plots.resize(document.getElementById(\"c6aa77e6-44da-466b-845c-e348d92e6bec\"));});</script>"
      ],
      "text/vnd.plotly.v1+html": [
       "<div id=\"c6aa77e6-44da-466b-845c-e348d92e6bec\" style=\"height: 525px; width: 100%;\" class=\"plotly-graph-div\"></div><script type=\"text/javascript\">require([\"plotly\"], function(Plotly) { window.PLOTLYENV=window.PLOTLYENV || {};window.PLOTLYENV.BASE_URL=\"https://plot.ly\";Plotly.newPlot(\"c6aa77e6-44da-466b-845c-e348d92e6bec\", [{\"marker\": {\"color\": [0.027243890343939262, 0.26422202976670234, 0.15323367806819194, 0.03224945061119358, 0.021501038610268707, 0.022075707310289894, 0.014614822363356064, 0.008319793995265449, 0.028723519403881664, 0.029001628115442334, 0.03474581183209578, 0.023388484171026038, 0.11556066969231987, 0.00418070464702953, 0.0427277653054522, 0.021243913890670655, 0.030453797657079184, 0.00477983539073106, 0.12173345882506426], \"colorscale\": \"Portland\", \"showscale\": true, \"size\": 25, \"sizemode\": \"diameter\", \"sizeref\": 1}, \"mode\": \"markers\", \"text\": [\"Type\", \"Age\", \"Breed1\", \"Breed2\", \"Gender\", \"Color1\", \"Color2\", \"Color3\", \"MaturitySize\", \"FurLength\", \"Vaccinated\", \"Dewormed\", \"Sterilized\", \"Health\", \"Quantity\", \"Fee\", \"State\", \"VideoAmt\", \"PhotoAmt\"], \"x\": [\"Type\", \"Age\", \"Breed1\", \"Breed2\", \"Gender\", \"Color1\", \"Color2\", \"Color3\", \"MaturitySize\", \"FurLength\", \"Vaccinated\", \"Dewormed\", \"Sterilized\", \"Health\", \"Quantity\", \"Fee\", \"State\", \"VideoAmt\", \"PhotoAmt\"], \"y\": [0.027243890343939262, 0.26422202976670234, 0.15323367806819194, 0.03224945061119358, 0.021501038610268707, 0.022075707310289894, 0.014614822363356064, 0.008319793995265449, 0.028723519403881664, 0.029001628115442334, 0.03474581183209578, 0.023388484171026038, 0.11556066969231987, 0.00418070464702953, 0.0427277653054522, 0.021243913890670655, 0.030453797657079184, 0.00477983539073106, 0.12173345882506426], \"type\": \"scatter\", \"uid\": \"354dc39b-cc6b-4cda-86b9-7436dd37020f\"}], {\"autosize\": true, \"hovermode\": \"closest\", \"showlegend\": false, \"title\": {\"text\": \"Random Forest Feature Importance\"}, \"yaxis\": {\"gridwidth\": 2, \"ticklen\": 5, \"title\": {\"text\": \"Feature Importance\"}}}, {\"showLink\": false, \"linkText\": \"Export to plot.ly\", \"plotlyServerURL\": \"https://plot.ly\"})});</script><script type=\"text/javascript\">window.addEventListener(\"resize\", function(){window._Plotly.Plots.resize(document.getElementById(\"c6aa77e6-44da-466b-845c-e348d92e6bec\"));});</script>"
      ]
     },
     "metadata": {},
     "output_type": "display_data"
    },
    {
     "data": {
      "application/vnd.plotly.v1+json": {
       "config": {
        "linkText": "Export to plot.ly",
        "plotlyServerURL": "https://plot.ly",
        "showLink": false
       },
       "data": [
        {
         "marker": {
          "color": [
           0.057686081373363694,
           0.06711389233847834,
           0.10218741663442658,
           0.03290709090041911,
           0.03605344391490798,
           0.029640334250899226,
           0.022659072037447745,
           0.018774173209219626,
           0.039744240456661924,
           0.05141532693701421,
           0.06640535001508314,
           0.04359864319958086,
           0.25125723204846895,
           0.01443975097521047,
           0.024262813514293765,
           0.018348001084277192,
           0.034858933862342595,
           0.008453580097810123,
           0.08019462315009437
          ],
          "colorscale": "Portland",
          "showscale": true,
          "size": 25,
          "sizemode": "diameter",
          "sizeref": 1
         },
         "mode": "markers",
         "text": [
          "Type",
          "Age",
          "Breed1",
          "Breed2",
          "Gender",
          "Color1",
          "Color2",
          "Color3",
          "MaturitySize",
          "FurLength",
          "Vaccinated",
          "Dewormed",
          "Sterilized",
          "Health",
          "Quantity",
          "Fee",
          "State",
          "VideoAmt",
          "PhotoAmt"
         ],
         "type": "scatter",
         "uid": "64a569d0-c6c2-46d8-ba37-99708cd1f938",
         "x": [
          "Type",
          "Age",
          "Breed1",
          "Breed2",
          "Gender",
          "Color1",
          "Color2",
          "Color3",
          "MaturitySize",
          "FurLength",
          "Vaccinated",
          "Dewormed",
          "Sterilized",
          "Health",
          "Quantity",
          "Fee",
          "State",
          "VideoAmt",
          "PhotoAmt"
         ],
         "y": [
          0.057686081373363694,
          0.06711389233847834,
          0.10218741663442658,
          0.03290709090041911,
          0.03605344391490798,
          0.029640334250899226,
          0.022659072037447745,
          0.018774173209219626,
          0.039744240456661924,
          0.05141532693701421,
          0.06640535001508314,
          0.04359864319958086,
          0.25125723204846895,
          0.01443975097521047,
          0.024262813514293765,
          0.018348001084277192,
          0.034858933862342595,
          0.008453580097810123,
          0.08019462315009437
         ]
        }
       ],
       "layout": {
        "autosize": true,
        "hovermode": "closest",
        "showlegend": false,
        "title": {
         "text": "Extra Trees Feature Importance"
        },
        "yaxis": {
         "gridwidth": 2,
         "ticklen": 5,
         "title": {
          "text": "Feature Importance"
         }
        }
       }
      },
      "text/html": [
       "<div id=\"485a9f48-631d-4ec4-8d81-628e2528f39b\" style=\"height: 525px; width: 100%;\" class=\"plotly-graph-div\"></div><script type=\"text/javascript\">require([\"plotly\"], function(Plotly) { window.PLOTLYENV=window.PLOTLYENV || {};window.PLOTLYENV.BASE_URL=\"https://plot.ly\";Plotly.newPlot(\"485a9f48-631d-4ec4-8d81-628e2528f39b\", [{\"marker\": {\"color\": [0.057686081373363694, 0.06711389233847834, 0.10218741663442658, 0.03290709090041911, 0.03605344391490798, 0.029640334250899226, 0.022659072037447745, 0.018774173209219626, 0.039744240456661924, 0.05141532693701421, 0.06640535001508314, 0.04359864319958086, 0.25125723204846895, 0.01443975097521047, 0.024262813514293765, 0.018348001084277192, 0.034858933862342595, 0.008453580097810123, 0.08019462315009437], \"colorscale\": \"Portland\", \"showscale\": true, \"size\": 25, \"sizemode\": \"diameter\", \"sizeref\": 1}, \"mode\": \"markers\", \"text\": [\"Type\", \"Age\", \"Breed1\", \"Breed2\", \"Gender\", \"Color1\", \"Color2\", \"Color3\", \"MaturitySize\", \"FurLength\", \"Vaccinated\", \"Dewormed\", \"Sterilized\", \"Health\", \"Quantity\", \"Fee\", \"State\", \"VideoAmt\", \"PhotoAmt\"], \"x\": [\"Type\", \"Age\", \"Breed1\", \"Breed2\", \"Gender\", \"Color1\", \"Color2\", \"Color3\", \"MaturitySize\", \"FurLength\", \"Vaccinated\", \"Dewormed\", \"Sterilized\", \"Health\", \"Quantity\", \"Fee\", \"State\", \"VideoAmt\", \"PhotoAmt\"], \"y\": [0.057686081373363694, 0.06711389233847834, 0.10218741663442658, 0.03290709090041911, 0.03605344391490798, 0.029640334250899226, 0.022659072037447745, 0.018774173209219626, 0.039744240456661924, 0.05141532693701421, 0.06640535001508314, 0.04359864319958086, 0.25125723204846895, 0.01443975097521047, 0.024262813514293765, 0.018348001084277192, 0.034858933862342595, 0.008453580097810123, 0.08019462315009437], \"type\": \"scatter\", \"uid\": \"64a569d0-c6c2-46d8-ba37-99708cd1f938\"}], {\"autosize\": true, \"hovermode\": \"closest\", \"showlegend\": false, \"title\": {\"text\": \"Extra Trees Feature Importance\"}, \"yaxis\": {\"gridwidth\": 2, \"ticklen\": 5, \"title\": {\"text\": \"Feature Importance\"}}}, {\"showLink\": false, \"linkText\": \"Export to plot.ly\", \"plotlyServerURL\": \"https://plot.ly\"})});</script><script type=\"text/javascript\">window.addEventListener(\"resize\", function(){window._Plotly.Plots.resize(document.getElementById(\"485a9f48-631d-4ec4-8d81-628e2528f39b\"));});</script>"
      ],
      "text/vnd.plotly.v1+html": [
       "<div id=\"485a9f48-631d-4ec4-8d81-628e2528f39b\" style=\"height: 525px; width: 100%;\" class=\"plotly-graph-div\"></div><script type=\"text/javascript\">require([\"plotly\"], function(Plotly) { window.PLOTLYENV=window.PLOTLYENV || {};window.PLOTLYENV.BASE_URL=\"https://plot.ly\";Plotly.newPlot(\"485a9f48-631d-4ec4-8d81-628e2528f39b\", [{\"marker\": {\"color\": [0.057686081373363694, 0.06711389233847834, 0.10218741663442658, 0.03290709090041911, 0.03605344391490798, 0.029640334250899226, 0.022659072037447745, 0.018774173209219626, 0.039744240456661924, 0.05141532693701421, 0.06640535001508314, 0.04359864319958086, 0.25125723204846895, 0.01443975097521047, 0.024262813514293765, 0.018348001084277192, 0.034858933862342595, 0.008453580097810123, 0.08019462315009437], \"colorscale\": \"Portland\", \"showscale\": true, \"size\": 25, \"sizemode\": \"diameter\", \"sizeref\": 1}, \"mode\": \"markers\", \"text\": [\"Type\", \"Age\", \"Breed1\", \"Breed2\", \"Gender\", \"Color1\", \"Color2\", \"Color3\", \"MaturitySize\", \"FurLength\", \"Vaccinated\", \"Dewormed\", \"Sterilized\", \"Health\", \"Quantity\", \"Fee\", \"State\", \"VideoAmt\", \"PhotoAmt\"], \"x\": [\"Type\", \"Age\", \"Breed1\", \"Breed2\", \"Gender\", \"Color1\", \"Color2\", \"Color3\", \"MaturitySize\", \"FurLength\", \"Vaccinated\", \"Dewormed\", \"Sterilized\", \"Health\", \"Quantity\", \"Fee\", \"State\", \"VideoAmt\", \"PhotoAmt\"], \"y\": [0.057686081373363694, 0.06711389233847834, 0.10218741663442658, 0.03290709090041911, 0.03605344391490798, 0.029640334250899226, 0.022659072037447745, 0.018774173209219626, 0.039744240456661924, 0.05141532693701421, 0.06640535001508314, 0.04359864319958086, 0.25125723204846895, 0.01443975097521047, 0.024262813514293765, 0.018348001084277192, 0.034858933862342595, 0.008453580097810123, 0.08019462315009437], \"type\": \"scatter\", \"uid\": \"64a569d0-c6c2-46d8-ba37-99708cd1f938\"}], {\"autosize\": true, \"hovermode\": \"closest\", \"showlegend\": false, \"title\": {\"text\": \"Extra Trees Feature Importance\"}, \"yaxis\": {\"gridwidth\": 2, \"ticklen\": 5, \"title\": {\"text\": \"Feature Importance\"}}}, {\"showLink\": false, \"linkText\": \"Export to plot.ly\", \"plotlyServerURL\": \"https://plot.ly\"})});</script><script type=\"text/javascript\">window.addEventListener(\"resize\", function(){window._Plotly.Plots.resize(document.getElementById(\"485a9f48-631d-4ec4-8d81-628e2528f39b\"));});</script>"
      ]
     },
     "metadata": {},
     "output_type": "display_data"
    },
    {
     "data": {
      "application/vnd.plotly.v1+json": {
       "config": {
        "linkText": "Export to plot.ly",
        "plotlyServerURL": "https://plot.ly",
        "showLink": false
       },
       "data": [
        {
         "marker": {
          "color": [
           0.004,
           0.184,
           0.27,
           0.042,
           0.012,
           0.042,
           0.038,
           0.028,
           0.014,
           0.012,
           0.004,
           0.014,
           0.01,
           0.004,
           0.066,
           0.04,
           0.056,
           0.012,
           0.148
          ],
          "colorscale": "Portland",
          "showscale": true,
          "size": 25,
          "sizemode": "diameter",
          "sizeref": 1
         },
         "mode": "markers",
         "text": [
          "Type",
          "Age",
          "Breed1",
          "Breed2",
          "Gender",
          "Color1",
          "Color2",
          "Color3",
          "MaturitySize",
          "FurLength",
          "Vaccinated",
          "Dewormed",
          "Sterilized",
          "Health",
          "Quantity",
          "Fee",
          "State",
          "VideoAmt",
          "PhotoAmt"
         ],
         "type": "scatter",
         "uid": "3d18b9f1-32b7-4ce7-adcd-a520d13d6369",
         "x": [
          "Type",
          "Age",
          "Breed1",
          "Breed2",
          "Gender",
          "Color1",
          "Color2",
          "Color3",
          "MaturitySize",
          "FurLength",
          "Vaccinated",
          "Dewormed",
          "Sterilized",
          "Health",
          "Quantity",
          "Fee",
          "State",
          "VideoAmt",
          "PhotoAmt"
         ],
         "y": [
          0.004,
          0.184,
          0.27,
          0.042,
          0.012,
          0.042,
          0.038,
          0.028,
          0.014,
          0.012,
          0.004,
          0.014,
          0.01,
          0.004,
          0.066,
          0.04,
          0.056,
          0.012,
          0.148
         ]
        }
       ],
       "layout": {
        "autosize": true,
        "hovermode": "closest",
        "showlegend": false,
        "title": {
         "text": "AdaBoost Feature Importance"
        },
        "yaxis": {
         "gridwidth": 2,
         "ticklen": 5,
         "title": {
          "text": "Feature Importance"
         }
        }
       }
      },
      "text/html": [
       "<div id=\"6d07f146-9900-44c1-9d5d-744f5aa21cf7\" style=\"height: 525px; width: 100%;\" class=\"plotly-graph-div\"></div><script type=\"text/javascript\">require([\"plotly\"], function(Plotly) { window.PLOTLYENV=window.PLOTLYENV || {};window.PLOTLYENV.BASE_URL=\"https://plot.ly\";Plotly.newPlot(\"6d07f146-9900-44c1-9d5d-744f5aa21cf7\", [{\"marker\": {\"color\": [0.004, 0.184, 0.27, 0.042, 0.012, 0.042, 0.038, 0.028, 0.014, 0.012, 0.004, 0.014, 0.01, 0.004, 0.066, 0.04, 0.056, 0.012, 0.148], \"colorscale\": \"Portland\", \"showscale\": true, \"size\": 25, \"sizemode\": \"diameter\", \"sizeref\": 1}, \"mode\": \"markers\", \"text\": [\"Type\", \"Age\", \"Breed1\", \"Breed2\", \"Gender\", \"Color1\", \"Color2\", \"Color3\", \"MaturitySize\", \"FurLength\", \"Vaccinated\", \"Dewormed\", \"Sterilized\", \"Health\", \"Quantity\", \"Fee\", \"State\", \"VideoAmt\", \"PhotoAmt\"], \"x\": [\"Type\", \"Age\", \"Breed1\", \"Breed2\", \"Gender\", \"Color1\", \"Color2\", \"Color3\", \"MaturitySize\", \"FurLength\", \"Vaccinated\", \"Dewormed\", \"Sterilized\", \"Health\", \"Quantity\", \"Fee\", \"State\", \"VideoAmt\", \"PhotoAmt\"], \"y\": [0.004, 0.184, 0.27, 0.042, 0.012, 0.042, 0.038, 0.028, 0.014, 0.012, 0.004, 0.014, 0.01, 0.004, 0.066, 0.04, 0.056, 0.012, 0.148], \"type\": \"scatter\", \"uid\": \"3d18b9f1-32b7-4ce7-adcd-a520d13d6369\"}], {\"autosize\": true, \"hovermode\": \"closest\", \"showlegend\": false, \"title\": {\"text\": \"AdaBoost Feature Importance\"}, \"yaxis\": {\"gridwidth\": 2, \"ticklen\": 5, \"title\": {\"text\": \"Feature Importance\"}}}, {\"showLink\": false, \"linkText\": \"Export to plot.ly\", \"plotlyServerURL\": \"https://plot.ly\"})});</script><script type=\"text/javascript\">window.addEventListener(\"resize\", function(){window._Plotly.Plots.resize(document.getElementById(\"6d07f146-9900-44c1-9d5d-744f5aa21cf7\"));});</script>"
      ],
      "text/vnd.plotly.v1+html": [
       "<div id=\"6d07f146-9900-44c1-9d5d-744f5aa21cf7\" style=\"height: 525px; width: 100%;\" class=\"plotly-graph-div\"></div><script type=\"text/javascript\">require([\"plotly\"], function(Plotly) { window.PLOTLYENV=window.PLOTLYENV || {};window.PLOTLYENV.BASE_URL=\"https://plot.ly\";Plotly.newPlot(\"6d07f146-9900-44c1-9d5d-744f5aa21cf7\", [{\"marker\": {\"color\": [0.004, 0.184, 0.27, 0.042, 0.012, 0.042, 0.038, 0.028, 0.014, 0.012, 0.004, 0.014, 0.01, 0.004, 0.066, 0.04, 0.056, 0.012, 0.148], \"colorscale\": \"Portland\", \"showscale\": true, \"size\": 25, \"sizemode\": \"diameter\", \"sizeref\": 1}, \"mode\": \"markers\", \"text\": [\"Type\", \"Age\", \"Breed1\", \"Breed2\", \"Gender\", \"Color1\", \"Color2\", \"Color3\", \"MaturitySize\", \"FurLength\", \"Vaccinated\", \"Dewormed\", \"Sterilized\", \"Health\", \"Quantity\", \"Fee\", \"State\", \"VideoAmt\", \"PhotoAmt\"], \"x\": [\"Type\", \"Age\", \"Breed1\", \"Breed2\", \"Gender\", \"Color1\", \"Color2\", \"Color3\", \"MaturitySize\", \"FurLength\", \"Vaccinated\", \"Dewormed\", \"Sterilized\", \"Health\", \"Quantity\", \"Fee\", \"State\", \"VideoAmt\", \"PhotoAmt\"], \"y\": [0.004, 0.184, 0.27, 0.042, 0.012, 0.042, 0.038, 0.028, 0.014, 0.012, 0.004, 0.014, 0.01, 0.004, 0.066, 0.04, 0.056, 0.012, 0.148], \"type\": \"scatter\", \"uid\": \"3d18b9f1-32b7-4ce7-adcd-a520d13d6369\"}], {\"autosize\": true, \"hovermode\": \"closest\", \"showlegend\": false, \"title\": {\"text\": \"AdaBoost Feature Importance\"}, \"yaxis\": {\"gridwidth\": 2, \"ticklen\": 5, \"title\": {\"text\": \"Feature Importance\"}}}, {\"showLink\": false, \"linkText\": \"Export to plot.ly\", \"plotlyServerURL\": \"https://plot.ly\"})});</script><script type=\"text/javascript\">window.addEventListener(\"resize\", function(){window._Plotly.Plots.resize(document.getElementById(\"6d07f146-9900-44c1-9d5d-744f5aa21cf7\"));});</script>"
      ]
     },
     "metadata": {},
     "output_type": "display_data"
    },
    {
     "data": {
      "application/vnd.plotly.v1+json": {
       "config": {
        "linkText": "Export to plot.ly",
        "plotlyServerURL": "https://plot.ly",
        "showLink": false
       },
       "data": [
        {
         "marker": {
          "color": [
           0.009445768165861965,
           0.1830606248859259,
           0.14638100341953958,
           0.06440836221896906,
           0.02821764287010955,
           0.0482583462336851,
           0.043774449468343204,
           0.02156566159646893,
           0.03715958351215111,
           0.03095929175496787,
           0.02535244021038276,
           0.025361211436270095,
           0.04168141626689967,
           0.010405062682027275,
           0.04732521924147911,
           0.05245043860908384,
           0.058285345423520735,
           0.010810899429194791,
           0.1150972325751197
          ],
          "colorscale": "Portland",
          "showscale": true,
          "size": 25,
          "sizemode": "diameter",
          "sizeref": 1
         },
         "mode": "markers",
         "text": [
          "Type",
          "Age",
          "Breed1",
          "Breed2",
          "Gender",
          "Color1",
          "Color2",
          "Color3",
          "MaturitySize",
          "FurLength",
          "Vaccinated",
          "Dewormed",
          "Sterilized",
          "Health",
          "Quantity",
          "Fee",
          "State",
          "VideoAmt",
          "PhotoAmt"
         ],
         "type": "scatter",
         "uid": "6187e4f1-c807-439d-942a-741c077fb3dc",
         "x": [
          "Type",
          "Age",
          "Breed1",
          "Breed2",
          "Gender",
          "Color1",
          "Color2",
          "Color3",
          "MaturitySize",
          "FurLength",
          "Vaccinated",
          "Dewormed",
          "Sterilized",
          "Health",
          "Quantity",
          "Fee",
          "State",
          "VideoAmt",
          "PhotoAmt"
         ],
         "y": [
          0.009445768165861965,
          0.1830606248859259,
          0.14638100341953958,
          0.06440836221896906,
          0.02821764287010955,
          0.0482583462336851,
          0.043774449468343204,
          0.02156566159646893,
          0.03715958351215111,
          0.03095929175496787,
          0.02535244021038276,
          0.025361211436270095,
          0.04168141626689967,
          0.010405062682027275,
          0.04732521924147911,
          0.05245043860908384,
          0.058285345423520735,
          0.010810899429194791,
          0.1150972325751197
         ]
        }
       ],
       "layout": {
        "autosize": true,
        "hovermode": "closest",
        "showlegend": false,
        "title": {
         "text": "Gradient Boosting Feature Importance"
        },
        "yaxis": {
         "gridwidth": 2,
         "ticklen": 5,
         "title": {
          "text": "Feature Importance"
         }
        }
       }
      },
      "text/html": [
       "<div id=\"80a7d11f-9828-4584-9127-4eae31cbbfda\" style=\"height: 525px; width: 100%;\" class=\"plotly-graph-div\"></div><script type=\"text/javascript\">require([\"plotly\"], function(Plotly) { window.PLOTLYENV=window.PLOTLYENV || {};window.PLOTLYENV.BASE_URL=\"https://plot.ly\";Plotly.newPlot(\"80a7d11f-9828-4584-9127-4eae31cbbfda\", [{\"marker\": {\"color\": [0.009445768165861965, 0.1830606248859259, 0.14638100341953958, 0.06440836221896906, 0.02821764287010955, 0.0482583462336851, 0.043774449468343204, 0.02156566159646893, 0.03715958351215111, 0.03095929175496787, 0.02535244021038276, 0.025361211436270095, 0.04168141626689967, 0.010405062682027275, 0.04732521924147911, 0.05245043860908384, 0.058285345423520735, 0.010810899429194791, 0.1150972325751197], \"colorscale\": \"Portland\", \"showscale\": true, \"size\": 25, \"sizemode\": \"diameter\", \"sizeref\": 1}, \"mode\": \"markers\", \"text\": [\"Type\", \"Age\", \"Breed1\", \"Breed2\", \"Gender\", \"Color1\", \"Color2\", \"Color3\", \"MaturitySize\", \"FurLength\", \"Vaccinated\", \"Dewormed\", \"Sterilized\", \"Health\", \"Quantity\", \"Fee\", \"State\", \"VideoAmt\", \"PhotoAmt\"], \"x\": [\"Type\", \"Age\", \"Breed1\", \"Breed2\", \"Gender\", \"Color1\", \"Color2\", \"Color3\", \"MaturitySize\", \"FurLength\", \"Vaccinated\", \"Dewormed\", \"Sterilized\", \"Health\", \"Quantity\", \"Fee\", \"State\", \"VideoAmt\", \"PhotoAmt\"], \"y\": [0.009445768165861965, 0.1830606248859259, 0.14638100341953958, 0.06440836221896906, 0.02821764287010955, 0.0482583462336851, 0.043774449468343204, 0.02156566159646893, 0.03715958351215111, 0.03095929175496787, 0.02535244021038276, 0.025361211436270095, 0.04168141626689967, 0.010405062682027275, 0.04732521924147911, 0.05245043860908384, 0.058285345423520735, 0.010810899429194791, 0.1150972325751197], \"type\": \"scatter\", \"uid\": \"6187e4f1-c807-439d-942a-741c077fb3dc\"}], {\"autosize\": true, \"hovermode\": \"closest\", \"showlegend\": false, \"title\": {\"text\": \"Gradient Boosting Feature Importance\"}, \"yaxis\": {\"gridwidth\": 2, \"ticklen\": 5, \"title\": {\"text\": \"Feature Importance\"}}}, {\"showLink\": false, \"linkText\": \"Export to plot.ly\", \"plotlyServerURL\": \"https://plot.ly\"})});</script><script type=\"text/javascript\">window.addEventListener(\"resize\", function(){window._Plotly.Plots.resize(document.getElementById(\"80a7d11f-9828-4584-9127-4eae31cbbfda\"));});</script>"
      ],
      "text/vnd.plotly.v1+html": [
       "<div id=\"80a7d11f-9828-4584-9127-4eae31cbbfda\" style=\"height: 525px; width: 100%;\" class=\"plotly-graph-div\"></div><script type=\"text/javascript\">require([\"plotly\"], function(Plotly) { window.PLOTLYENV=window.PLOTLYENV || {};window.PLOTLYENV.BASE_URL=\"https://plot.ly\";Plotly.newPlot(\"80a7d11f-9828-4584-9127-4eae31cbbfda\", [{\"marker\": {\"color\": [0.009445768165861965, 0.1830606248859259, 0.14638100341953958, 0.06440836221896906, 0.02821764287010955, 0.0482583462336851, 0.043774449468343204, 0.02156566159646893, 0.03715958351215111, 0.03095929175496787, 0.02535244021038276, 0.025361211436270095, 0.04168141626689967, 0.010405062682027275, 0.04732521924147911, 0.05245043860908384, 0.058285345423520735, 0.010810899429194791, 0.1150972325751197], \"colorscale\": \"Portland\", \"showscale\": true, \"size\": 25, \"sizemode\": \"diameter\", \"sizeref\": 1}, \"mode\": \"markers\", \"text\": [\"Type\", \"Age\", \"Breed1\", \"Breed2\", \"Gender\", \"Color1\", \"Color2\", \"Color3\", \"MaturitySize\", \"FurLength\", \"Vaccinated\", \"Dewormed\", \"Sterilized\", \"Health\", \"Quantity\", \"Fee\", \"State\", \"VideoAmt\", \"PhotoAmt\"], \"x\": [\"Type\", \"Age\", \"Breed1\", \"Breed2\", \"Gender\", \"Color1\", \"Color2\", \"Color3\", \"MaturitySize\", \"FurLength\", \"Vaccinated\", \"Dewormed\", \"Sterilized\", \"Health\", \"Quantity\", \"Fee\", \"State\", \"VideoAmt\", \"PhotoAmt\"], \"y\": [0.009445768165861965, 0.1830606248859259, 0.14638100341953958, 0.06440836221896906, 0.02821764287010955, 0.0482583462336851, 0.043774449468343204, 0.02156566159646893, 0.03715958351215111, 0.03095929175496787, 0.02535244021038276, 0.025361211436270095, 0.04168141626689967, 0.010405062682027275, 0.04732521924147911, 0.05245043860908384, 0.058285345423520735, 0.010810899429194791, 0.1150972325751197], \"type\": \"scatter\", \"uid\": \"6187e4f1-c807-439d-942a-741c077fb3dc\"}], {\"autosize\": true, \"hovermode\": \"closest\", \"showlegend\": false, \"title\": {\"text\": \"Gradient Boosting Feature Importance\"}, \"yaxis\": {\"gridwidth\": 2, \"ticklen\": 5, \"title\": {\"text\": \"Feature Importance\"}}}, {\"showLink\": false, \"linkText\": \"Export to plot.ly\", \"plotlyServerURL\": \"https://plot.ly\"})});</script><script type=\"text/javascript\">window.addEventListener(\"resize\", function(){window._Plotly.Plots.resize(document.getElementById(\"80a7d11f-9828-4584-9127-4eae31cbbfda\"));});</script>"
      ]
     },
     "metadata": {},
     "output_type": "display_data"
    }
   ],
   "source": [
    "# Scatter plot \n",
    "trace = go.Scatter(\n",
    "    y = feature_df['Random Forest feature importances'].values,\n",
    "    x = feature_df['features'].values,\n",
    "    mode='markers',\n",
    "    marker=dict(\n",
    "        sizemode = 'diameter',\n",
    "        sizeref = 1,\n",
    "        size = 25,\n",
    "#       size= feature_dataframe['AdaBoost feature importances'].values,\n",
    "        #color = np.random.randn(500), #set color equal to a variable\n",
    "        color = feature_df['Random Forest feature importances'].values,\n",
    "        colorscale='Portland',\n",
    "        showscale=True\n",
    "    ),\n",
    "    text = feature_df['features'].values\n",
    ")\n",
    "data = [trace]\n",
    "\n",
    "layout= go.Layout(\n",
    "    autosize= True,\n",
    "    title= 'Random Forest Feature Importance',\n",
    "    hovermode= 'closest',\n",
    "#     xaxis= dict(\n",
    "#         title= 'Pop',\n",
    "#         ticklen= 5,\n",
    "#         zeroline= False,\n",
    "#         gridwidth= 2,\n",
    "#     ),\n",
    "    yaxis=dict(\n",
    "        title= 'Feature Importance',\n",
    "        ticklen= 5,\n",
    "        gridwidth= 2\n",
    "    ),\n",
    "    showlegend= False\n",
    ")\n",
    "fig = go.Figure(data=data, layout=layout)\n",
    "py.iplot(fig,filename='scatter2010')\n",
    "\n",
    "# Scatter plot \n",
    "trace = go.Scatter(\n",
    "    y = feature_df['Extra Trees  feature importances'].values,\n",
    "    x = feature_df['features'].values,\n",
    "    mode='markers',\n",
    "    marker=dict(\n",
    "        sizemode = 'diameter',\n",
    "        sizeref = 1,\n",
    "        size = 25,\n",
    "#       size= feature_dataframe['AdaBoost feature importances'].values,\n",
    "        #color = np.random.randn(500), #set color equal to a variable\n",
    "        color = feature_df['Extra Trees  feature importances'].values,\n",
    "        colorscale='Portland',\n",
    "        showscale=True\n",
    "    ),\n",
    "    text = feature_df['features'].values\n",
    ")\n",
    "data = [trace]\n",
    "\n",
    "layout= go.Layout(\n",
    "    autosize= True,\n",
    "    title= 'Extra Trees Feature Importance',\n",
    "    hovermode= 'closest',\n",
    "#     xaxis= dict(\n",
    "#         title= 'Pop',\n",
    "#         ticklen= 5,\n",
    "#         zeroline= False,\n",
    "#         gridwidth= 2,\n",
    "#     ),\n",
    "    yaxis=dict(\n",
    "        title= 'Feature Importance',\n",
    "        ticklen= 5,\n",
    "        gridwidth= 2\n",
    "    ),\n",
    "    showlegend= False\n",
    ")\n",
    "fig = go.Figure(data=data, layout=layout)\n",
    "py.iplot(fig,filename='scatter2010')\n",
    "\n",
    "# Scatter plot \n",
    "trace = go.Scatter(\n",
    "    y = feature_df['AdaBoost feature importances'].values,\n",
    "    x = feature_df['features'].values,\n",
    "    mode='markers',\n",
    "    marker=dict(\n",
    "        sizemode = 'diameter',\n",
    "        sizeref = 1,\n",
    "        size = 25,\n",
    "#       size= feature_dataframe['AdaBoost feature importances'].values,\n",
    "        #color = np.random.randn(500), #set color equal to a variable\n",
    "        color = feature_df['AdaBoost feature importances'].values,\n",
    "        colorscale='Portland',\n",
    "        showscale=True\n",
    "    ),\n",
    "    text = feature_df['features'].values\n",
    ")\n",
    "data = [trace]\n",
    "\n",
    "layout= go.Layout(\n",
    "    autosize= True,\n",
    "    title= 'AdaBoost Feature Importance',\n",
    "    hovermode= 'closest',\n",
    "#     xaxis= dict(\n",
    "#         title= 'Pop',\n",
    "#         ticklen= 5,\n",
    "#         zeroline= False,\n",
    "#         gridwidth= 2,\n",
    "#     ),\n",
    "    yaxis=dict(\n",
    "        title= 'Feature Importance',\n",
    "        ticklen= 5,\n",
    "        gridwidth= 2\n",
    "    ),\n",
    "    showlegend= False\n",
    ")\n",
    "fig = go.Figure(data=data, layout=layout)\n",
    "py.iplot(fig,filename='scatter2010')\n",
    "\n",
    "# Scatter plot \n",
    "trace = go.Scatter(\n",
    "    y = feature_df['Gradient Boost feature importances'].values,\n",
    "    x = feature_df['features'].values,\n",
    "    mode='markers',\n",
    "    marker=dict(\n",
    "        sizemode = 'diameter',\n",
    "        sizeref = 1,\n",
    "        size = 25,\n",
    "#       size= feature_dataframe['AdaBoost feature importances'].values,\n",
    "        #color = np.random.randn(500), #set color equal to a variable\n",
    "        color = feature_df['Gradient Boost feature importances'].values,\n",
    "        colorscale='Portland',\n",
    "        showscale=True\n",
    "    ),\n",
    "    text = feature_df['features'].values\n",
    ")\n",
    "data = [trace]\n",
    "\n",
    "layout= go.Layout(\n",
    "    autosize= True,\n",
    "    title= 'Gradient Boosting Feature Importance',\n",
    "    hovermode= 'closest',\n",
    "#     xaxis= dict(\n",
    "#         title= 'Pop',\n",
    "#         ticklen= 5,\n",
    "#         zeroline= False,\n",
    "#         gridwidth= 2,\n",
    "#     ),\n",
    "    yaxis=dict(\n",
    "        title= 'Feature Importance',\n",
    "        ticklen= 5,\n",
    "        gridwidth= 2\n",
    "    ),\n",
    "    showlegend= False\n",
    ")\n",
    "fig = go.Figure(data=data, layout=layout)\n",
    "py.iplot(fig,filename='scatter2010')"
   ]
  },
  {
   "cell_type": "code",
   "execution_count": 15,
   "metadata": {},
   "outputs": [
    {
     "data": {
      "text/html": [
       "<div>\n",
       "<style scoped>\n",
       "    .dataframe tbody tr th:only-of-type {\n",
       "        vertical-align: middle;\n",
       "    }\n",
       "\n",
       "    .dataframe tbody tr th {\n",
       "        vertical-align: top;\n",
       "    }\n",
       "\n",
       "    .dataframe thead th {\n",
       "        text-align: right;\n",
       "    }\n",
       "</style>\n",
       "<table border=\"1\" class=\"dataframe\">\n",
       "  <thead>\n",
       "    <tr style=\"text-align: right;\">\n",
       "      <th></th>\n",
       "      <th>features</th>\n",
       "      <th>Random Forest feature importances</th>\n",
       "      <th>Extra Trees  feature importances</th>\n",
       "      <th>AdaBoost feature importances</th>\n",
       "      <th>Gradient Boost feature importances</th>\n",
       "      <th>mean</th>\n",
       "    </tr>\n",
       "  </thead>\n",
       "  <tbody>\n",
       "    <tr>\n",
       "      <th>0</th>\n",
       "      <td>Type</td>\n",
       "      <td>0.027244</td>\n",
       "      <td>0.057686</td>\n",
       "      <td>0.004</td>\n",
       "      <td>0.009446</td>\n",
       "      <td>0.024594</td>\n",
       "    </tr>\n",
       "    <tr>\n",
       "      <th>1</th>\n",
       "      <td>Age</td>\n",
       "      <td>0.264222</td>\n",
       "      <td>0.067114</td>\n",
       "      <td>0.184</td>\n",
       "      <td>0.183061</td>\n",
       "      <td>0.174599</td>\n",
       "    </tr>\n",
       "    <tr>\n",
       "      <th>2</th>\n",
       "      <td>Breed1</td>\n",
       "      <td>0.153234</td>\n",
       "      <td>0.102187</td>\n",
       "      <td>0.270</td>\n",
       "      <td>0.146381</td>\n",
       "      <td>0.167951</td>\n",
       "    </tr>\n",
       "    <tr>\n",
       "      <th>3</th>\n",
       "      <td>Breed2</td>\n",
       "      <td>0.032249</td>\n",
       "      <td>0.032907</td>\n",
       "      <td>0.042</td>\n",
       "      <td>0.064408</td>\n",
       "      <td>0.042891</td>\n",
       "    </tr>\n",
       "    <tr>\n",
       "      <th>4</th>\n",
       "      <td>Gender</td>\n",
       "      <td>0.021501</td>\n",
       "      <td>0.036053</td>\n",
       "      <td>0.012</td>\n",
       "      <td>0.028218</td>\n",
       "      <td>0.024443</td>\n",
       "    </tr>\n",
       "  </tbody>\n",
       "</table>\n",
       "</div>"
      ],
      "text/plain": [
       "  features  Random Forest feature importances  \\\n",
       "0     Type                           0.027244   \n",
       "1      Age                           0.264222   \n",
       "2   Breed1                           0.153234   \n",
       "3   Breed2                           0.032249   \n",
       "4   Gender                           0.021501   \n",
       "\n",
       "   Extra Trees  feature importances  AdaBoost feature importances  \\\n",
       "0                          0.057686                         0.004   \n",
       "1                          0.067114                         0.184   \n",
       "2                          0.102187                         0.270   \n",
       "3                          0.032907                         0.042   \n",
       "4                          0.036053                         0.012   \n",
       "\n",
       "   Gradient Boost feature importances      mean  \n",
       "0                            0.009446  0.024594  \n",
       "1                            0.183061  0.174599  \n",
       "2                            0.146381  0.167951  \n",
       "3                            0.064408  0.042891  \n",
       "4                            0.028218  0.024443  "
      ]
     },
     "execution_count": 15,
     "metadata": {},
     "output_type": "execute_result"
    }
   ],
   "source": [
    "feature_df[\"mean\"] = feature_df.mean(axis = 1)\n",
    "feature_df.head()"
   ]
  },
  {
   "cell_type": "code",
   "execution_count": 16,
   "metadata": {},
   "outputs": [
    {
     "data": {
      "application/vnd.plotly.v1+json": {
       "config": {
        "linkText": "Export to plot.ly",
        "plotlyServerURL": "https://plot.ly",
        "showLink": false
       },
       "data": [
        {
         "type": "bar",
         "uid": "75a17430-5838-49df-8295-bd7720d536a8",
         "x": [
          "Type",
          "Age",
          "Breed1",
          "Breed2",
          "Gender",
          "Color1",
          "Color2",
          "Color3",
          "MaturitySize",
          "FurLength",
          "Vaccinated",
          "Dewormed",
          "Sterilized",
          "Health",
          "Quantity",
          "Fee",
          "State",
          "VideoAmt",
          "PhotoAmt"
         ],
         "y": [
          0.024593934970791233,
          0.17459913674777666,
          0.16795052453053955,
          0.04289122593264544,
          0.02444303134882156,
          0.03549359694871856,
          0.029762085967286755,
          0.0191649072002385,
          0.029906835843173673,
          0.0308440617018561,
          0.032625900514390425,
          0.02658708470171925,
          0.10462482950192212,
          0.008256379576066819,
          0.04507894951530627,
          0.03301058839600793,
          0.04489951923573563,
          0.009011078729433993,
          0.11625632863756957
         ]
        }
       ],
       "layout": {
        "title": {
         "text": "Feature Importance-Mean"
        },
        "yaxis": {
         "title": {
          "text": "Importance"
         }
        }
       }
      },
      "text/html": [
       "<div id=\"fd0f6bea-bd3d-4068-bbd7-4326a557424e\" style=\"height: 525px; width: 100%;\" class=\"plotly-graph-div\"></div><script type=\"text/javascript\">require([\"plotly\"], function(Plotly) { window.PLOTLYENV=window.PLOTLYENV || {};window.PLOTLYENV.BASE_URL=\"https://plot.ly\";Plotly.newPlot(\"fd0f6bea-bd3d-4068-bbd7-4326a557424e\", [{\"x\": [\"Type\", \"Age\", \"Breed1\", \"Breed2\", \"Gender\", \"Color1\", \"Color2\", \"Color3\", \"MaturitySize\", \"FurLength\", \"Vaccinated\", \"Dewormed\", \"Sterilized\", \"Health\", \"Quantity\", \"Fee\", \"State\", \"VideoAmt\", \"PhotoAmt\"], \"y\": [0.024593934970791233, 0.17459913674777666, 0.16795052453053955, 0.04289122593264544, 0.02444303134882156, 0.03549359694871856, 0.029762085967286755, 0.0191649072002385, 0.029906835843173673, 0.0308440617018561, 0.032625900514390425, 0.02658708470171925, 0.10462482950192212, 0.008256379576066819, 0.04507894951530627, 0.03301058839600793, 0.04489951923573563, 0.009011078729433993, 0.11625632863756957], \"type\": \"bar\", \"uid\": \"75a17430-5838-49df-8295-bd7720d536a8\"}], {\"title\": {\"text\": \"Feature Importance-Mean\"}, \"yaxis\": {\"title\": {\"text\": \"Importance\"}}}, {\"showLink\": false, \"linkText\": \"Export to plot.ly\", \"plotlyServerURL\": \"https://plot.ly\"})});</script><script type=\"text/javascript\">window.addEventListener(\"resize\", function(){window._Plotly.Plots.resize(document.getElementById(\"fd0f6bea-bd3d-4068-bbd7-4326a557424e\"));});</script>"
      ],
      "text/vnd.plotly.v1+html": [
       "<div id=\"fd0f6bea-bd3d-4068-bbd7-4326a557424e\" style=\"height: 525px; width: 100%;\" class=\"plotly-graph-div\"></div><script type=\"text/javascript\">require([\"plotly\"], function(Plotly) { window.PLOTLYENV=window.PLOTLYENV || {};window.PLOTLYENV.BASE_URL=\"https://plot.ly\";Plotly.newPlot(\"fd0f6bea-bd3d-4068-bbd7-4326a557424e\", [{\"x\": [\"Type\", \"Age\", \"Breed1\", \"Breed2\", \"Gender\", \"Color1\", \"Color2\", \"Color3\", \"MaturitySize\", \"FurLength\", \"Vaccinated\", \"Dewormed\", \"Sterilized\", \"Health\", \"Quantity\", \"Fee\", \"State\", \"VideoAmt\", \"PhotoAmt\"], \"y\": [0.024593934970791233, 0.17459913674777666, 0.16795052453053955, 0.04289122593264544, 0.02444303134882156, 0.03549359694871856, 0.029762085967286755, 0.0191649072002385, 0.029906835843173673, 0.0308440617018561, 0.032625900514390425, 0.02658708470171925, 0.10462482950192212, 0.008256379576066819, 0.04507894951530627, 0.03301058839600793, 0.04489951923573563, 0.009011078729433993, 0.11625632863756957], \"type\": \"bar\", \"uid\": \"75a17430-5838-49df-8295-bd7720d536a8\"}], {\"title\": {\"text\": \"Feature Importance-Mean\"}, \"yaxis\": {\"title\": {\"text\": \"Importance\"}}}, {\"showLink\": false, \"linkText\": \"Export to plot.ly\", \"plotlyServerURL\": \"https://plot.ly\"})});</script><script type=\"text/javascript\">window.addEventListener(\"resize\", function(){window._Plotly.Plots.resize(document.getElementById(\"fd0f6bea-bd3d-4068-bbd7-4326a557424e\"));});</script>"
      ]
     },
     "metadata": {},
     "output_type": "display_data"
    }
   ],
   "source": [
    "data =[\n",
    "    go.Bar(\n",
    "    x =feature_df[\"features\"].values,\n",
    "    y = feature_df[\"mean\"].values\n",
    "    )\n",
    "]\n",
    "\n",
    "layout = go.Layout(\n",
    "    title = \"Feature Importance-Mean\",\n",
    "    yaxis =dict(\n",
    "        title = \"Importance\", \n",
    "    )\n",
    ")\n",
    "\n",
    "fig = go.Figure(data = data, layout = layout)\n",
    "py.iplot(fig, filename = \"BAR\")"
   ]
  },
  {
   "cell_type": "code",
   "execution_count": 17,
   "metadata": {},
   "outputs": [
    {
     "data": {
      "text/html": [
       "<div>\n",
       "<style scoped>\n",
       "    .dataframe tbody tr th:only-of-type {\n",
       "        vertical-align: middle;\n",
       "    }\n",
       "\n",
       "    .dataframe tbody tr th {\n",
       "        vertical-align: top;\n",
       "    }\n",
       "\n",
       "    .dataframe thead th {\n",
       "        text-align: right;\n",
       "    }\n",
       "</style>\n",
       "<table border=\"1\" class=\"dataframe\">\n",
       "  <thead>\n",
       "    <tr style=\"text-align: right;\">\n",
       "      <th></th>\n",
       "      <th>RandomForest</th>\n",
       "      <th>ExtraTrees</th>\n",
       "      <th>AdaBoost</th>\n",
       "      <th>GradientBoost</th>\n",
       "    </tr>\n",
       "  </thead>\n",
       "  <tbody>\n",
       "    <tr>\n",
       "      <th>0</th>\n",
       "      <td>2.0</td>\n",
       "      <td>2.0</td>\n",
       "      <td>1.0</td>\n",
       "      <td>2.0</td>\n",
       "    </tr>\n",
       "    <tr>\n",
       "      <th>1</th>\n",
       "      <td>1.0</td>\n",
       "      <td>4.0</td>\n",
       "      <td>1.0</td>\n",
       "      <td>1.0</td>\n",
       "    </tr>\n",
       "    <tr>\n",
       "      <th>2</th>\n",
       "      <td>3.0</td>\n",
       "      <td>2.0</td>\n",
       "      <td>2.0</td>\n",
       "      <td>3.0</td>\n",
       "    </tr>\n",
       "    <tr>\n",
       "      <th>3</th>\n",
       "      <td>4.0</td>\n",
       "      <td>4.0</td>\n",
       "      <td>3.0</td>\n",
       "      <td>4.0</td>\n",
       "    </tr>\n",
       "    <tr>\n",
       "      <th>4</th>\n",
       "      <td>2.0</td>\n",
       "      <td>2.0</td>\n",
       "      <td>2.0</td>\n",
       "      <td>1.0</td>\n",
       "    </tr>\n",
       "    <tr>\n",
       "      <th>5</th>\n",
       "      <td>2.0</td>\n",
       "      <td>2.0</td>\n",
       "      <td>2.0</td>\n",
       "      <td>2.0</td>\n",
       "    </tr>\n",
       "    <tr>\n",
       "      <th>6</th>\n",
       "      <td>4.0</td>\n",
       "      <td>4.0</td>\n",
       "      <td>4.0</td>\n",
       "      <td>4.0</td>\n",
       "    </tr>\n",
       "    <tr>\n",
       "      <th>7</th>\n",
       "      <td>2.0</td>\n",
       "      <td>2.0</td>\n",
       "      <td>3.0</td>\n",
       "      <td>3.0</td>\n",
       "    </tr>\n",
       "    <tr>\n",
       "      <th>8</th>\n",
       "      <td>2.0</td>\n",
       "      <td>2.0</td>\n",
       "      <td>2.0</td>\n",
       "      <td>2.0</td>\n",
       "    </tr>\n",
       "    <tr>\n",
       "      <th>9</th>\n",
       "      <td>4.0</td>\n",
       "      <td>4.0</td>\n",
       "      <td>4.0</td>\n",
       "      <td>4.0</td>\n",
       "    </tr>\n",
       "  </tbody>\n",
       "</table>\n",
       "</div>"
      ],
      "text/plain": [
       "   RandomForest  ExtraTrees  AdaBoost  GradientBoost\n",
       "0           2.0         2.0       1.0            2.0\n",
       "1           1.0         4.0       1.0            1.0\n",
       "2           3.0         2.0       2.0            3.0\n",
       "3           4.0         4.0       3.0            4.0\n",
       "4           2.0         2.0       2.0            1.0\n",
       "5           2.0         2.0       2.0            2.0\n",
       "6           4.0         4.0       4.0            4.0\n",
       "7           2.0         2.0       3.0            3.0\n",
       "8           2.0         2.0       2.0            2.0\n",
       "9           4.0         4.0       4.0            4.0"
      ]
     },
     "execution_count": 17,
     "metadata": {},
     "output_type": "execute_result"
    }
   ],
   "source": [
    "base_predictions_train = pd.DataFrame( {'RandomForest': rf_oof_train[:,0],\n",
    "     'ExtraTrees': et_oof_train[:,0],\n",
    "     'AdaBoost': ada_oof_train[:,0],\n",
    "      'GradientBoost': gb_oof_train[:,0]\n",
    "    })\n",
    "base_predictions_train.head(10)"
   ]
  },
  {
   "cell_type": "code",
   "execution_count": 18,
   "metadata": {},
   "outputs": [],
   "source": [
    "# Train에 ADD하기\n",
    "# train = np.concatenate((train, et_oof_train, rf_oof_train, ada_oof_train, gb_oof_train, svc_oof_train), axis = 1)\n",
    "# test = np.concatenate((test, et_oof_test, rf_oof_test, ada_oof_test, gb_oof_test, svc_oof_test), axis=1)\n",
    "train = np.concatenate((train, et_oof_train, rf_oof_train, ada_oof_train, gb_oof_train), axis = 1)\n",
    "test = np.concatenate((test, et_oof_test, rf_oof_test, ada_oof_test, gb_oof_test), axis=1)"
   ]
  },
  {
   "cell_type": "code",
   "execution_count": 20,
   "metadata": {},
   "outputs": [
    {
     "data": {
      "text/plain": [
       "array([[  2.,   3., 299., ...,   2.,   1.,   2.],\n",
       "       [  2.,   1., 265., ...,   1.,   1.,   1.],\n",
       "       [  1.,   1., 307., ...,   3.,   2.,   3.],\n",
       "       ...,\n",
       "       [  2.,   2., 265., ...,   4.,   1.,   4.],\n",
       "       [  2.,   9., 266., ...,   4.,   4.,   2.],\n",
       "       [  1.,   1., 307., ...,   2.,   2.,   3.]])"
      ]
     },
     "execution_count": 20,
     "metadata": {},
     "output_type": "execute_result"
    }
   ],
   "source": [
    "train"
   ]
  }
 ],
 "metadata": {
  "kernelspec": {
   "display_name": "Python 3",
   "language": "python",
   "name": "python3"
  },
  "language_info": {
   "codemirror_mode": {
    "name": "ipython",
    "version": 3
   },
   "file_extension": ".py",
   "mimetype": "text/x-python",
   "name": "python",
   "nbconvert_exporter": "python",
   "pygments_lexer": "ipython3",
   "version": "3.6.6"
  }
 },
 "nbformat": 4,
 "nbformat_minor": 2
}
