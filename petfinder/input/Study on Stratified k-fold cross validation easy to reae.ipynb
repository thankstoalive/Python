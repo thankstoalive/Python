{
 "cells": [
  {
   "cell_type": "code",
   "execution_count": 1,
   "metadata": {},
   "outputs": [],
   "source": [
    "import os\n",
    "import numpy as np\n",
    "import pandas as pd\n",
    "\n",
    "import warnings\n",
    "warnings.filterwarnings('ignore')"
   ]
  },
  {
   "cell_type": "code",
   "execution_count": 2,
   "metadata": {},
   "outputs": [],
   "source": [
    "train = pd.read_csv('./train/train.csv')\n",
    "test = pd.read_csv('./test/test.csv')\n",
    "\n",
    "train.drop(['Name', 'Description', 'PetID', 'RescuerID'], axis=1, inplace=True)\n",
    "test.drop(['Name', 'Description', 'PetID', 'RescuerID'], axis=1, inplace=True)\n",
    "\n",
    "target = train['AdoptionSpeed']\n",
    "train.drop(['AdoptionSpeed'], axis=1, inplace=True)"
   ]
  },
  {
   "cell_type": "markdown",
   "metadata": {},
   "source": [
    "# StratifiedJFold for Classification"
   ]
  },
  {
   "cell_type": "code",
   "execution_count": 3,
   "metadata": {},
   "outputs": [],
   "source": [
    "from sklearn.model_selection import StratifiedKFold\n",
    "from sklearn.tree import DecisionTreeClassifier\n",
    "\n",
    "k_fold = 5\n",
    "kf = StratifiedKFold(n_splits=k_fold, random_state=42, shuffle=True)\n",
    "fold_splits = kf.split(train, target)\n",
    "\n",
    "pred_train = np.zeros((train.shape[0])) # train 관측치 수\n",
    "pred_test_ = np.zeros((test.shape[0],5)) # test 관측치 수, 범주의 수 # regression이면 범주의 수 없이 ㄱㄱ\n",
    "\n",
    "i = 1\n",
    "for dev_index, val_index in fold_splits: # 알아서 나눠줌\n",
    "    dev_X, val_X = train.iloc[dev_index], train.iloc[val_index]\n",
    "    dev_y, val_y = target[dev_index], target[val_index]\n",
    "    \n",
    "    model = DecisionTreeClassifier()\n",
    "    model.fit(dev_X, dev_y)\n",
    "    pred_val_y = model.predict(val_X)\n",
    "    pred_test_y = model.predict_proba(test)\n",
    "\n",
    "    pred_train[val_index] = pred_val_y\n",
    "    pred_test_ = pred_test_ + pred_test_y\n",
    "    i = i +1\n",
    "pred_test_ = pred_test_ / 5.0"
   ]
  },
  {
   "cell_type": "code",
   "execution_count": 4,
   "metadata": {},
   "outputs": [
    {
     "data": {
      "text/plain": [
       "array([2., 3., 3., ..., 2., 4., 3.])"
      ]
     },
     "execution_count": 4,
     "metadata": {},
     "output_type": "execute_result"
    }
   ],
   "source": [
    "pred_train"
   ]
  },
  {
   "cell_type": "code",
   "execution_count": 5,
   "metadata": {},
   "outputs": [
    {
     "data": {
      "text/plain": [
       "array([1, 2, 2, ..., 1, 3, 4], dtype=int64)"
      ]
     },
     "execution_count": 5,
     "metadata": {},
     "output_type": "execute_result"
    }
   ],
   "source": [
    "np.argmax(pred_test_, axis=1)"
   ]
  },
  {
   "cell_type": "code",
   "execution_count": null,
   "metadata": {},
   "outputs": [],
   "source": []
  }
 ],
 "metadata": {
  "kernelspec": {
   "display_name": "Python 3",
   "language": "python",
   "name": "python3"
  },
  "language_info": {
   "codemirror_mode": {
    "name": "ipython",
    "version": 3
   },
   "file_extension": ".py",
   "mimetype": "text/x-python",
   "name": "python",
   "nbconvert_exporter": "python",
   "pygments_lexer": "ipython3",
   "version": "3.6.6"
  }
 },
 "nbformat": 4,
 "nbformat_minor": 2
}
