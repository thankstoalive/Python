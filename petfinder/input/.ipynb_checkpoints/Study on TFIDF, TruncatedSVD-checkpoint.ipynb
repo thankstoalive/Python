{
 "cells": [
  {
   "cell_type": "markdown",
   "metadata": {},
   "source": [
    "## 개념 참고\n",
    "\n",
    "TFIDF  \n",
    "http://euriion.com/?p=411929\n",
    "\n",
    "truncated SVD  \n",
    "https://ratsgo.github.io/from%20frequency%20to%20semantics/2017/04/06/pcasvdlsa/\n",
    "\n",
    "## 함수 옵션 참고\n",
    "\n",
    "TfidfVectorizer  \n",
    "https://scikit-learn.org/stable/modules/generated/sklearn.feature_extraction.text.TfidfVectorizer.html\n",
    "\n",
    "TruncatedSVD  \n",
    "https://scikit-learn.org/stable/modules/generated/sklearn.decomposition.TruncatedSVD.html"
   ]
  },
  {
   "cell_type": "code",
   "execution_count": 1,
   "metadata": {},
   "outputs": [],
   "source": [
    "import os\n",
    "import numpy as np\n",
    "import pandas as pd\n",
    "\n",
    "import warnings\n",
    "warnings.filterwarnings('ignore')\n",
    "\n",
    "from sklearn.feature_extraction.text import TfidfVectorizer\n",
    "from sklearn.decomposition import TruncatedSVD"
   ]
  },
  {
   "cell_type": "code",
   "execution_count": 3,
   "metadata": {},
   "outputs": [],
   "source": [
    "train = pd.read_csv('./train/train.csv')\n",
    "test = pd.read_csv('./test/test.csv')"
   ]
  },
  {
   "cell_type": "markdown",
   "metadata": {},
   "source": [
    "## 결측치 처리"
   ]
  },
  {
   "cell_type": "code",
   "execution_count": 4,
   "metadata": {},
   "outputs": [],
   "source": [
    "train_desc = train.Description.fillna(\"none\").values\n",
    "test_desc = test.Description.fillna(\"none\").values"
   ]
  },
  {
   "cell_type": "markdown",
   "metadata": {},
   "source": [
    "## TFIDF 설정"
   ]
  },
  {
   "cell_type": "code",
   "execution_count": 5,
   "metadata": {},
   "outputs": [],
   "source": [
    "tfv = TfidfVectorizer(min_df=3,  max_features=None,\n",
    "        strip_accents='unicode', analyzer='word', token_pattern=r'\\w{1,}',\n",
    "        ngram_range=(1, 3), use_idf=1, smooth_idf=1, sublinear_tf=1,\n",
    "        stop_words = 'english')"
   ]
  },
  {
   "cell_type": "markdown",
   "metadata": {},
   "source": [
    "- min_df : 정수(n)로 인수를 받으면 n보다 작으면 무시, 정수의 의미는 DF에서 절대적인 개수  \n",
    "- max_features(n) : 디폴트는 None, TF를 빈도 순으로 나열해서 상위 n개만큼만 고려한 단어장 구축\n",
    "- token_pattern : 토큰화 정규 표현식  \n",
    "정규표현식 test하는 사이트  \n",
    "https://rubular.com/r/mpI2mrlXe3\n",
    "- ngram_range : n의 범위\n",
    "- use_idf : 디폴트 True, Enable inverse-document-frequency reweighting.\n",
    "- smooth_idf : 디폴트 True, True이면 df에 각각에 1을 더해 idf weights를 smooth하게 해줌.\n",
    "- sublinear_tf : 디폴트 False, True이면 Apply sublinear tf scaling, i.e. replace tf with 1 + log(tf)."
   ]
  },
  {
   "cell_type": "markdown",
   "metadata": {},
   "source": [
    "N-gram 예제\n",
    "\n",
    "\"This is a sentence\"\n",
    "\n",
    "N=1  \n",
    "this, is, a, sentence\n",
    "\n",
    "N=2  \n",
    "this is, is a, a sentence\n",
    "\n",
    "N=3  \n",
    "this is a, is a sentence"
   ]
  },
  {
   "cell_type": "markdown",
   "metadata": {},
   "source": [
    "## TFIDF 적용"
   ]
  },
  {
   "cell_type": "code",
   "execution_count": 6,
   "metadata": {},
   "outputs": [
    {
     "data": {
      "text/plain": [
       "TfidfVectorizer(analyzer='word', binary=False, decode_error='strict',\n",
       "        dtype=<class 'numpy.float64'>, encoding='utf-8', input='content',\n",
       "        lowercase=True, max_df=1.0, max_features=None, min_df=3,\n",
       "        ngram_range=(1, 3), norm='l2', preprocessor=None, smooth_idf=1,\n",
       "        stop_words='english', strip_accents='unicode', sublinear_tf=1,\n",
       "        token_pattern='\\\\w{1,}', tokenizer=None, use_idf=1,\n",
       "        vocabulary=None)"
      ]
     },
     "execution_count": 6,
     "metadata": {},
     "output_type": "execute_result"
    }
   ],
   "source": [
    "# Fit TFIDF\n",
    "tfv.fit(list(train_desc)) # Learn vocabulary and idf from training set."
   ]
  },
  {
   "cell_type": "code",
   "execution_count": 7,
   "metadata": {},
   "outputs": [
    {
     "name": "stdout",
     "output_type": "stream",
     "text": [
      "X (tfidf): (14993, 50192)\n",
      "Term : 50,192개\n"
     ]
    }
   ],
   "source": [
    "X =  tfv.transform(train_desc) # Transform documents to document-term matrix.\n",
    "X_test = tfv.transform(test_desc)\n",
    "print(\"X (tfidf):\", X.shape)\n",
    "print(\"Term : {:,}개\" .format(X.shape[1]))"
   ]
  },
  {
   "cell_type": "markdown",
   "metadata": {},
   "source": [
    "## TruncatedSVD 설정"
   ]
  },
  {
   "cell_type": "code",
   "execution_count": 10,
   "metadata": {},
   "outputs": [],
   "source": [
    "TruncatedSVD_k = 10\n",
    "svd = TruncatedSVD(n_components=TruncatedSVD_k)"
   ]
  },
  {
   "cell_type": "markdown",
   "metadata": {},
   "source": [
    "## TruncatedSVD 적용"
   ]
  },
  {
   "cell_type": "code",
   "execution_count": 11,
   "metadata": {},
   "outputs": [
    {
     "name": "stdout",
     "output_type": "stream",
     "text": [
      "X (svd): (14993, 10)\n"
     ]
    }
   ],
   "source": [
    "svd.fit(X) # \tFit LSI model on training data X.\n",
    "X = svd.transform(X) # Perform dimensionality reduction on X.\n",
    "X_test = svd.transform(X_test)\n",
    "print(\"X (svd):\", X.shape)"
   ]
  },
  {
   "cell_type": "markdown",
   "metadata": {},
   "source": [
    "##  분산 확인"
   ]
  },
  {
   "cell_type": "code",
   "execution_count": 12,
   "metadata": {},
   "outputs": [
    {
     "name": "stdout",
     "output_type": "stream",
     "text": [
      "0.14247590492319592\n"
     ]
    }
   ],
   "source": [
    "print(svd.explained_variance_ratio_.sum())\n",
    "# int(svd.explained_variance_ratio_)"
   ]
  },
  {
   "cell_type": "markdown",
   "metadata": {},
   "source": [
    "## 데이터 붙이기"
   ]
  },
  {
   "cell_type": "code",
   "execution_count": 13,
   "metadata": {},
   "outputs": [
    {
     "name": "stdout",
     "output_type": "stream",
     "text": [
      "train: (14993, 34)\n"
     ]
    }
   ],
   "source": [
    "X = pd.DataFrame(X, columns=['svd_{}'.format(i) for i in range(TruncatedSVD_k)])\n",
    "train = pd.concat((train, X), axis=1)\n",
    "\n",
    "X_test = pd.DataFrame(X_test, columns=['svd_{}'.format(i) for i in range(TruncatedSVD_k)])\n",
    "test = pd.concat((test, X_test), axis=1)\n",
    "\n",
    "print(\"train:\", train.shape)"
   ]
  },
  {
   "cell_type": "code",
   "execution_count": null,
   "metadata": {},
   "outputs": [],
   "source": []
  }
 ],
 "metadata": {
  "kernelspec": {
   "display_name": "Python 3",
   "language": "python",
   "name": "python3"
  },
  "language_info": {
   "codemirror_mode": {
    "name": "ipython",
    "version": 3
   },
   "file_extension": ".py",
   "mimetype": "text/x-python",
   "name": "python",
   "nbconvert_exporter": "python",
   "pygments_lexer": "ipython3",
   "version": "3.6.6"
  }
 },
 "nbformat": 4,
 "nbformat_minor": 2
}
