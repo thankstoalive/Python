{
 "cells": [
  {
   "cell_type": "code",
   "execution_count": 24,
   "metadata": {},
   "outputs": [],
   "source": [
    "import os\n",
    "import numpy as np\n",
    "import pandas as pd\n",
    "\n",
    "import warnings\n",
    "warnings.filterwarnings('ignore')\n",
    "\n",
    "from sklearn.feature_extraction.text import TfidfVectorizer\n",
    "from sklearn.decomposition import TruncatedSVD"
   ]
  },
  {
   "cell_type": "code",
   "execution_count": 25,
   "metadata": {},
   "outputs": [],
   "source": [
    "# 데이터 불러오기\n",
    "train = pd.read_csv('./train/train.csv')\n",
    "test = pd.read_csv('./test/test.csv')\n",
    "\n",
    "# 결측치 처리\n",
    "train_desc = train.Description.fillna(\"none\").values\n",
    "test_desc = test.Description.fillna(\"none\").values"
   ]
  },
  {
   "cell_type": "code",
   "execution_count": 37,
   "metadata": {},
   "outputs": [
    {
     "name": "stdout",
     "output_type": "stream",
     "text": [
      "train.. 문장 : 14,993, 단어 : 21,209\n",
      "test..  문장 :  3,948, 단어 : 21,209\n"
     ]
    }
   ],
   "source": [
    "# TFIDF 설정\n",
    "tfv = TfidfVectorizer()\n",
    "\n",
    "# Fit TFIDF (훈련)\n",
    "tfv.fit(list(train_desc)) # Learn vocabulary and idf from training set.\n",
    "\n",
    "# 변환\n",
    "X =  tfv.transform(train_desc) # Transform documents to document-term matrix.\n",
    "X_test = tfv.transform(test_desc)\n",
    "\n",
    "print(\"train.. 문장 : {:>6,}, 단어 : {:,}\" .format(X.shape[0], X.shape[1]))\n",
    "print(\"test..  문장 : {:>6,}, 단어 : {:,}\" .format(X_test.shape[0], X_test.shape[1]))"
   ]
  },
  {
   "cell_type": "code",
   "execution_count": 38,
   "metadata": {},
   "outputs": [
    {
     "name": "stdout",
     "output_type": "stream",
     "text": [
      "(14993, 10)\n",
      "(3948, 10)\n",
      "설명 가능한  분산 : 10.25%\n"
     ]
    }
   ],
   "source": [
    "# Truncated SVD 설정\n",
    "\n",
    "TruncatedSVD_k = 10\n",
    "svd = TruncatedSVD(n_components=TruncatedSVD_k)\n",
    "\n",
    "# Fit Truncated SVD (훈련)\n",
    "svd.fit(X)\n",
    "\n",
    "# 변환\n",
    "X = svd.transform(X)\n",
    "X_test = svd.transform(X_test)\n",
    "\n",
    "print(X.shape)\n",
    "print(X_test.shape)\n",
    "print(\"설명 가능한  분산 : {:.2f}%\" .format(svd.explained_variance_ratio_.sum()*100))"
   ]
  },
  {
   "cell_type": "code",
   "execution_count": 39,
   "metadata": {},
   "outputs": [
    {
     "name": "stdout",
     "output_type": "stream",
     "text": [
      "train: (14993, 34)\n",
      "test: (3948, 33)\n"
     ]
    }
   ],
   "source": [
    "# 데이터 붙이기\n",
    "columns_name = ['svd_{}'.format(i) for i in range(TruncatedSVD_k)]\n",
    "X = pd.DataFrame(X, columns=columns_name)\n",
    "train = pd.concat((train, X), axis=1)\n",
    "\n",
    "X_test = pd.DataFrame(X_test, columns=columns_name)\n",
    "test = pd.concat((test, X_test), axis=1)\n",
    "\n",
    "print(\"train:\", train.shape)\n",
    "print(\"test:\", test.shape)"
   ]
  }
 ],
 "metadata": {
  "kernelspec": {
   "display_name": "Python 3",
   "language": "python",
   "name": "python3"
  },
  "language_info": {
   "codemirror_mode": {
    "name": "ipython",
    "version": 3
   },
   "file_extension": ".py",
   "mimetype": "text/x-python",
   "name": "python",
   "nbconvert_exporter": "python",
   "pygments_lexer": "ipython3",
   "version": "3.6.6"
  }
 },
 "nbformat": 4,
 "nbformat_minor": 2
}
